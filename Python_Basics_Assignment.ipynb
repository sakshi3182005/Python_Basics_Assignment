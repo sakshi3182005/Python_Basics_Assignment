{
  "nbformat": 4,
  "nbformat_minor": 0,
  "metadata": {
    "colab": {
      "provenance": []
    },
    "kernelspec": {
      "name": "python3",
      "display_name": "Python 3"
    },
    "language_info": {
      "name": "python"
    }
  },
  "cells": [
    {
      "cell_type": "markdown",
      "source": [
        "Q1. Write all the conventions being followed while declaring a variable.\n",
        "\n",
        "Ans : a)Variables can contain alphabets(lower case or upper case) , numbers and underscore .\n",
        "\n",
        "b)Variable name can never begin with numbers.\n",
        "\n",
        "c)We cannot use restricted keywords as variable names.\n",
        "\n",
        "d)Variable name can begin with a letter or an underscore.\n",
        "\n",
        "e)Variable cannot have space in between words rather an underscore can be used.\n",
        "      "
      ],
      "metadata": {
        "id": "Di0xsVjY3XGa"
      }
    },
    {
      "cell_type": "markdown",
      "source": [
        "Q2. What will happen if we declare a restricted keyword as a variable?\n",
        "\n",
        "Ans: It will cause an syntax error."
      ],
      "metadata": {
        "id": "ex_xplTztcc-"
      }
    },
    {
      "cell_type": "markdown",
      "source": [
        "Q3. Can we actually declare a string as a variable name?\n",
        "\n",
        "Ans: No , we cannot declare a string as a variable name because there are restricted words that are strings , some strings can begin with digits and some can contain special characters."
      ],
      "metadata": {
        "id": "cnwboq5g8o3S"
      }
    },
    {
      "cell_type": "markdown",
      "source": [
        "Q4. Is it possible for us to declare “_” as a variable? If so, then write an example of it.\n",
        "\n",
        "Ans: Yes , we can declare underscore as a variable.\n",
        "\n",
        "Eg :"
      ],
      "metadata": {
        "id": "VNwVT2Eo9qPz"
      }
    },
    {
      "cell_type": "code",
      "source": [
        "_ = \"hello world\"\n",
        "print(_)"
      ],
      "metadata": {
        "colab": {
          "base_uri": "https://localhost:8080/"
        },
        "id": "tHzJuUvJ-QyI",
        "outputId": "cb33201d-3dfb-4cc8-8a04-5029b5acf53e"
      },
      "execution_count": 9,
      "outputs": [
        {
          "output_type": "stream",
          "name": "stdout",
          "text": [
            "hello world\n"
          ]
        }
      ]
    },
    {
      "cell_type": "markdown",
      "source": [
        "Q5. Using an example, explain how the variables in python are dynamic in nature."
      ],
      "metadata": {
        "id": "78XO19p5-kmQ"
      }
    },
    {
      "cell_type": "code",
      "source": [
        "a = \"Hello Python\"\n",
        "print(type(a)) #will produce the output as str\n",
        "\n",
        "a = 10\n",
        "print(type(a)) #will produce the output as int"
      ],
      "metadata": {
        "colab": {
          "base_uri": "https://localhost:8080/"
        },
        "id": "7wKdvwww-pCg",
        "outputId": "827507dd-e9e7-41c7-f128-3c22c65a46b2"
      },
      "execution_count": 8,
      "outputs": [
        {
          "output_type": "stream",
          "name": "stdout",
          "text": [
            "<class 'str'>\n",
            "<class 'int'>\n"
          ]
        }
      ]
    },
    {
      "cell_type": "markdown",
      "source": [
        "Here in the first case the variable 'a' was a string later after reassigning it changed it's class type to integer and we can futher change it into any data type flexibly and hence we can say that variables in python are dynamic in nature."
      ],
      "metadata": {
        "id": "q_JPXq-R_HiS"
      }
    }
  ]
}